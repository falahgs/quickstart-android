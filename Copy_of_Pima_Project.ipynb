{
  "nbformat": 4,
  "nbformat_minor": 0,
  "metadata": {
    "colab": {
      "name": "Copy of Pima Project.ipynb",
      "version": "0.3.2",
      "provenance": []
    },
    "kernelspec": {
      "display_name": "Python [Root]",
      "language": "python",
      "name": "Python [Root]"
    }
  },
  "cells": [
    {
      "cell_type": "markdown",
      "metadata": {
        "id": "view-in-github",
        "colab_type": "text"
      },
      "source": [
        "[View in Colaboratory](https://colab.research.google.com/github/falahgs/quickstart-android/blob/master/Copy_of_Pima_Project.ipynb)"
      ]
    },
    {
      "metadata": {
        "id": "9YzCR62JOAcu",
        "colab_type": "text"
      },
      "cell_type": "markdown",
      "source": [
        "# Loading the dataset into a pandas dataframe\n",
        "# تحميل قاعدة البيانات من ملف سي اس في الى إطاربيانات بانداس"
      ]
    },
    {
      "metadata": {
        "id": "_h-8mOXqOAcv",
        "colab_type": "code",
        "colab": {},
        "outputId": "4ae3d8ff-672e-476c-fc7d-c1b461983df7"
      },
      "cell_type": "code",
      "source": [
        "import numpy as np\n",
        "import pandas as pd\n",
        "\n",
        "df = pd.read_csv('diabetes.csv')\n",
        "df.head() #لاستعراض ال5 السجلات الاولى من إطار البيانات"
      ],
      "execution_count": 0,
      "outputs": [
        {
          "output_type": "execute_result",
          "data": {
            "text/html": [
              "<div>\n",
              "<table border=\"1\" class=\"dataframe\">\n",
              "  <thead>\n",
              "    <tr style=\"text-align: right;\">\n",
              "      <th></th>\n",
              "      <th>Pregnancies</th>\n",
              "      <th>Glucose</th>\n",
              "      <th>BloodPressure</th>\n",
              "      <th>SkinThickness</th>\n",
              "      <th>Insulin</th>\n",
              "      <th>BMI</th>\n",
              "      <th>DiabetesPedigreeFunction</th>\n",
              "      <th>Age</th>\n",
              "      <th>Outcome</th>\n",
              "    </tr>\n",
              "  </thead>\n",
              "  <tbody>\n",
              "    <tr>\n",
              "      <th>0</th>\n",
              "      <td>6</td>\n",
              "      <td>148</td>\n",
              "      <td>72</td>\n",
              "      <td>35</td>\n",
              "      <td>0</td>\n",
              "      <td>33.6</td>\n",
              "      <td>0.627</td>\n",
              "      <td>50</td>\n",
              "      <td>1</td>\n",
              "    </tr>\n",
              "    <tr>\n",
              "      <th>1</th>\n",
              "      <td>1</td>\n",
              "      <td>85</td>\n",
              "      <td>66</td>\n",
              "      <td>29</td>\n",
              "      <td>0</td>\n",
              "      <td>26.6</td>\n",
              "      <td>0.351</td>\n",
              "      <td>31</td>\n",
              "      <td>0</td>\n",
              "    </tr>\n",
              "    <tr>\n",
              "      <th>2</th>\n",
              "      <td>8</td>\n",
              "      <td>183</td>\n",
              "      <td>64</td>\n",
              "      <td>0</td>\n",
              "      <td>0</td>\n",
              "      <td>23.3</td>\n",
              "      <td>0.672</td>\n",
              "      <td>32</td>\n",
              "      <td>1</td>\n",
              "    </tr>\n",
              "    <tr>\n",
              "      <th>3</th>\n",
              "      <td>1</td>\n",
              "      <td>89</td>\n",
              "      <td>66</td>\n",
              "      <td>23</td>\n",
              "      <td>94</td>\n",
              "      <td>28.1</td>\n",
              "      <td>0.167</td>\n",
              "      <td>21</td>\n",
              "      <td>0</td>\n",
              "    </tr>\n",
              "    <tr>\n",
              "      <th>4</th>\n",
              "      <td>0</td>\n",
              "      <td>137</td>\n",
              "      <td>40</td>\n",
              "      <td>35</td>\n",
              "      <td>168</td>\n",
              "      <td>43.1</td>\n",
              "      <td>2.288</td>\n",
              "      <td>33</td>\n",
              "      <td>1</td>\n",
              "    </tr>\n",
              "  </tbody>\n",
              "</table>\n",
              "</div>"
            ],
            "text/plain": [
              "   Pregnancies  Glucose  BloodPressure  SkinThickness  Insulin   BMI  \\\n",
              "0            6      148             72             35        0  33.6   \n",
              "1            1       85             66             29        0  26.6   \n",
              "2            8      183             64              0        0  23.3   \n",
              "3            1       89             66             23       94  28.1   \n",
              "4            0      137             40             35      168  43.1   \n",
              "\n",
              "   DiabetesPedigreeFunction  Age  Outcome  \n",
              "0                     0.627   50        1  \n",
              "1                     0.351   31        0  \n",
              "2                     0.672   32        1  \n",
              "3                     0.167   21        0  \n",
              "4                     2.288   33        1  "
            ]
          },
          "metadata": {
            "tags": []
          },
          "execution_count": 3
        }
      ]
    },
    {
      "metadata": {
        "id": "-nptrob6OAc3",
        "colab_type": "text"
      },
      "cell_type": "markdown",
      "source": [
        "## نفوم بفصل الخواص/التسميات و إستخراج فقط القيم من الإطار"
      ]
    },
    {
      "metadata": {
        "id": "oR0AOWcxOAc4",
        "colab_type": "code",
        "colab": {}
      },
      "cell_type": "code",
      "source": [
        "columns = ['Pregnancies', 'Glucose', 'BloodPressure', 'SkinThickness', 'Insulin', 'BMI', 'DiabetesPedigreeFunction', 'Age']\n",
        "labels = df['Outcome'].values\n",
        "features = df[list(columns)].values"
      ],
      "execution_count": 0,
      "outputs": []
    },
    {
      "metadata": {
        "id": "KsKTPjmzOAc9",
        "colab_type": "text"
      },
      "cell_type": "markdown",
      "source": [
        "## في هذه المرحلة تكون لدينا مصفوفتين\n",
        "### Labels = التسميات (قيم فقط)\n",
        "### features = الخواص فقط "
      ]
    },
    {
      "metadata": {
        "id": "kzndl8KYOAc_",
        "colab_type": "text"
      },
      "cell_type": "markdown",
      "source": [
        "## الخطوه التاليه نقوم بتقسيم البيانات إلى عينة التدريب و عينة الفحص\n",
        "## train_test_split = الدالة المسؤاله عن تفسيم البيانات و تأخذ ثلاث باميترز مصفوفتي الخواص و التسميات و ثم حجم عينة الفحص"
      ]
    },
    {
      "metadata": {
        "id": "jnvotZc-OAdA",
        "colab_type": "code",
        "colab": {}
      },
      "cell_type": "code",
      "source": [
        "from sklearn.ensemble import RandomForestClassifier\n",
        "from sklearn.model_selection import train_test_split\n",
        "\n",
        "X_train, X_test, y_train, y_test = train_test_split(features, labels, test_size=0.30)"
      ],
      "execution_count": 0,
      "outputs": []
    },
    {
      "metadata": {
        "id": "N30HNkEcOAdE",
        "colab_type": "text"
      },
      "cell_type": "markdown",
      "source": [
        "## النتائج من العملية السابقة عبارة عن اربع مصفوفات\n",
        "### X_train = مصفوفة التدريب للخواص\n",
        "### y_train = مصفوفة التدريب للسمات\n",
        "### X_test = مصفوفة الفحص للخواص\n",
        "### y_test = مصفوفة الفحص للتسميات"
      ]
    },
    {
      "metadata": {
        "id": "2WXfcn0nOAdG",
        "colab_type": "text"
      },
      "cell_type": "markdown",
      "source": [
        "## تقريباً اصبح كل شي جاهز بالنسبةللبيانات و هندستها\n",
        "## الان تبقى ان نقوم بخطوتين هامه\n",
        "### 1- تهيئة النموذج (اخترنا في هذه الحالةراندوم فوريست)\n",
        "### 2- تدريب النموذج من خلال تمرير مصفوفتي التدريب (الخواص و التسميات)"
      ]
    },
    {
      "metadata": {
        "id": "X1EnCPpiOAdI",
        "colab_type": "code",
        "colab": {}
      },
      "cell_type": "code",
      "source": [
        "clf = RandomForestClassifier(n_estimators=1)\n",
        "clf = clf.fit(X_train, y_train)"
      ],
      "execution_count": 0,
      "outputs": []
    },
    {
      "metadata": {
        "id": "60lLCKceOAdM",
        "colab_type": "text"
      },
      "cell_type": "markdown",
      "source": [
        "# نقوم بتقييم اداء النموذج من خلال حساب الدقةكما يلي"
      ]
    },
    {
      "metadata": {
        "id": "wKCfQpHlOAdN",
        "colab_type": "code",
        "colab": {},
        "outputId": "fd26f3ef-c9a4-462d-cc57-fc29f7a51787"
      },
      "cell_type": "code",
      "source": [
        "accuracy = clf.score(X_train, y_train)\n",
        "print accuracy*100"
      ],
      "execution_count": 0,
      "outputs": [
        {
          "output_type": "stream",
          "text": [
            "86.4059590317\n"
          ],
          "name": "stdout"
        }
      ]
    },
    {
      "metadata": {
        "id": "KbLMCMsFOAdS",
        "colab_type": "code",
        "colab": {},
        "outputId": "8be5f641-0ef9-42e4-fb2a-6b4b562ada7a"
      },
      "cell_type": "code",
      "source": [
        "accuracy = clf.score(X_test, y_test)\n",
        "print accuracy*100"
      ],
      "execution_count": 0,
      "outputs": [
        {
          "output_type": "stream",
          "text": [
            "68.8311688312\n"
          ],
          "name": "stdout"
        }
      ]
    },
    {
      "metadata": {
        "id": "CT0rujITOAdV",
        "colab_type": "text"
      },
      "cell_type": "markdown",
      "source": [
        "## confusion matrix and classification report for the testing sample"
      ]
    },
    {
      "metadata": {
        "id": "p5vWg2TKOAdW",
        "colab_type": "code",
        "colab": {},
        "outputId": "c28e7141-eebc-4d1f-fc8b-64641aabea31"
      },
      "cell_type": "code",
      "source": [
        "from sklearn.metrics import classification_report\n",
        "from sklearn.metrics import confusion_matrix\n",
        "\n",
        "ypredict = clf.predict(X_train)\n",
        "print '\\nTraining classification report\\n', classification_report(y_train, ypredict)"
      ],
      "execution_count": 0,
      "outputs": [
        {
          "output_type": "stream",
          "text": [
            "\n",
            "Training classification report\n",
            "             precision    recall  f1-score   support\n",
            "\n",
            "          0       0.88      0.91      0.90       348\n",
            "          1       0.83      0.78      0.80       189\n",
            "\n",
            "avg / total       0.86      0.86      0.86       537\n",
            "\n"
          ],
          "name": "stdout"
        }
      ]
    },
    {
      "metadata": {
        "id": "nylQqhXUOAda",
        "colab_type": "code",
        "colab": {},
        "outputId": "d5fb60cd-20f8-438e-fbfe-490c1d6af95b"
      },
      "cell_type": "code",
      "source": [
        "print \"\\n Confusion matrix of training \\n\", confusion_matrix(y_train, ypredict)"
      ],
      "execution_count": 0,
      "outputs": [
        {
          "output_type": "stream",
          "text": [
            "\n",
            " Confusion matrix of training \n",
            "[[317  31]\n",
            " [ 42 147]]\n"
          ],
          "name": "stdout"
        }
      ]
    },
    {
      "metadata": {
        "id": "Gq_EtZC0OAde",
        "colab_type": "code",
        "colab": {},
        "outputId": "a364aeec-0b74-4101-9e8b-77962f11be78"
      },
      "cell_type": "code",
      "source": [
        "ypredict = clf.predict(X_test)\n",
        "print '\\nTraining classification report\\n', classification_report(y_test, ypredict)\n",
        "print \"\\n Confusion matrix of training \\n\", confusion_matrix(y_test, ypredict)"
      ],
      "execution_count": 0,
      "outputs": [
        {
          "output_type": "stream",
          "text": [
            "\n",
            "Training classification report\n",
            "             precision    recall  f1-score   support\n",
            "\n",
            "          0       0.76      0.78      0.77       152\n",
            "          1       0.55      0.52      0.53        79\n",
            "\n",
            "avg / total       0.68      0.69      0.69       231\n",
            "\n",
            "\n",
            " Confusion matrix of training \n",
            "[[118  34]\n",
            " [ 38  41]]\n"
          ],
          "name": "stdout"
        }
      ]
    }
  ]
}